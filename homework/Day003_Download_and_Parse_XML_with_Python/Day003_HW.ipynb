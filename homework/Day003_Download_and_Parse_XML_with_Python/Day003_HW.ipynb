{
 "cells": [
  {
   "cell_type": "markdown",
   "metadata": {},
   "source": [
    "# Python 下載XML檔案與解析\n",
    "\n",
    "\n",
    "* 了解 xml 檔案格式與內容\n",
    "* 能夠利用套件存取 xml 格式的檔案\n"
   ]
  },
  {
   "cell_type": "markdown",
   "metadata": {},
   "source": [
    "## 作業目標\n",
    "\n",
    "* 比較一下範例檔案中的「File I/O」與「xmltodict」讀出來的內容有什麼差異\n",
    "\n",
    "* 根據範例檔案的結果：\n",
    "    1. 請問高雄市有多少地區有溫度資料？\n",
    "    2. 請取出每一個地區所記錄的第一個時間點跟溫度\n",
    "    3. 請取出第一個地區所記錄的每一個時間點跟溫度"
   ]
  },
  {
   "cell_type": "markdown",
   "metadata": {},
   "source": [
    "### 比較一下範例檔案中的「File I/O」與「xmltodict」讀出來的內容有什麼差異\n",
    "\n",
    "ANS: File I/O解析後保留標籤，xmltodict解析後會將標籤濾除存成字典"
   ]
  },
  {
   "cell_type": "code",
   "execution_count": 7,
   "metadata": {},
   "outputs": [
    {
     "name": "stdout",
     "output_type": "stream",
     "text": [
      "['<?xml version=\"1.0\" encoding=\"utf-8\"?>\\n', '<cwbopendata xmlns=\"urn:cwb:gov:tw:cwbcommon:0.1\">\\n', '  <identifier>ee2e9d7d-647c-4634-9027-7c822bde7bc0</identifier>\\n', '  <sender>weather@cwb.gov.tw</sender>\\n', '  <sent>2019-06-28T12:20:35+08:00</sent>\\n']\n"
     ]
    },
    {
     "ename": "ExpatError",
     "evalue": "no element found: line 2, column 0",
     "output_type": "error",
     "traceback": [
      "\u001b[1;31m---------------------------------------------------------------------------\u001b[0m",
      "\u001b[1;31mExpatError\u001b[0m                                Traceback (most recent call last)",
      "\u001b[1;32m<ipython-input-7-21864586ba53>\u001b[0m in \u001b[0;36m<module>\u001b[1;34m\u001b[0m\n\u001b[0;32m     10\u001b[0m \u001b[1;31m# 解析檔案內容\u001b[0m\u001b[1;33m\u001b[0m\u001b[1;33m\u001b[0m\u001b[1;33m\u001b[0m\u001b[0m\n\u001b[0;32m     11\u001b[0m \u001b[1;32mwith\u001b[0m \u001b[0mopen\u001b[0m\u001b[1;33m(\u001b[0m\u001b[1;34m\"./data/64_72hr_CH.xml\"\u001b[0m\u001b[1;33m,\u001b[0m \u001b[1;34m\"r\"\u001b[0m\u001b[1;33m,\u001b[0m \u001b[0mencoding\u001b[0m\u001b[1;33m=\u001b[0m\u001b[1;34m'utf-8'\u001b[0m\u001b[1;33m)\u001b[0m \u001b[1;32mas\u001b[0m \u001b[0mfd\u001b[0m\u001b[1;33m:\u001b[0m\u001b[1;33m\u001b[0m\u001b[1;33m\u001b[0m\u001b[0m\n\u001b[1;32m---> 12\u001b[1;33m     \u001b[0mdoc\u001b[0m \u001b[1;33m=\u001b[0m \u001b[0mdict\u001b[0m\u001b[1;33m(\u001b[0m\u001b[0mxmltodict\u001b[0m\u001b[1;33m.\u001b[0m\u001b[0mparse\u001b[0m\u001b[1;33m(\u001b[0m\u001b[0mfd\u001b[0m\u001b[1;33m.\u001b[0m\u001b[0mreadline\u001b[0m\u001b[1;33m(\u001b[0m\u001b[1;33m)\u001b[0m\u001b[1;33m)\u001b[0m\u001b[1;33m)\u001b[0m\u001b[1;33m\u001b[0m\u001b[1;33m\u001b[0m\u001b[0m\n\u001b[0m\u001b[0;32m     13\u001b[0m \u001b[0mprint\u001b[0m\u001b[1;33m(\u001b[0m\u001b[0mdoc\u001b[0m\u001b[1;33m)\u001b[0m\u001b[1;33m\u001b[0m\u001b[1;33m\u001b[0m\u001b[0m\n",
      "\u001b[1;32m~\\Anaconda3\\lib\\site-packages\\xmltodict.py\u001b[0m in \u001b[0;36mparse\u001b[1;34m(xml_input, encoding, expat, process_namespaces, namespace_separator, disable_entities, **kwargs)\u001b[0m\n\u001b[0;32m    325\u001b[0m         \u001b[0mparser\u001b[0m\u001b[1;33m.\u001b[0m\u001b[0mParseFile\u001b[0m\u001b[1;33m(\u001b[0m\u001b[0mxml_input\u001b[0m\u001b[1;33m)\u001b[0m\u001b[1;33m\u001b[0m\u001b[1;33m\u001b[0m\u001b[0m\n\u001b[0;32m    326\u001b[0m     \u001b[1;32melse\u001b[0m\u001b[1;33m:\u001b[0m\u001b[1;33m\u001b[0m\u001b[1;33m\u001b[0m\u001b[0m\n\u001b[1;32m--> 327\u001b[1;33m         \u001b[0mparser\u001b[0m\u001b[1;33m.\u001b[0m\u001b[0mParse\u001b[0m\u001b[1;33m(\u001b[0m\u001b[0mxml_input\u001b[0m\u001b[1;33m,\u001b[0m \u001b[1;32mTrue\u001b[0m\u001b[1;33m)\u001b[0m\u001b[1;33m\u001b[0m\u001b[1;33m\u001b[0m\u001b[0m\n\u001b[0m\u001b[0;32m    328\u001b[0m     \u001b[1;32mreturn\u001b[0m \u001b[0mhandler\u001b[0m\u001b[1;33m.\u001b[0m\u001b[0mitem\u001b[0m\u001b[1;33m\u001b[0m\u001b[1;33m\u001b[0m\u001b[0m\n\u001b[0;32m    329\u001b[0m \u001b[1;33m\u001b[0m\u001b[0m\n",
      "\u001b[1;31mExpatError\u001b[0m: no element found: line 2, column 0"
     ]
    }
   ],
   "source": [
    "'''\n",
    "Your Code\n",
    "'''\n",
    "import os \n",
    "dirs = os.listdir(\"./data\")\n",
    "file = open(\"./data/64_72hr_CH.xml\", \"r\", encoding='utf-8')\n",
    "print(file.readlines()[0:5])\n",
    "\n",
    "import xmltodict\n",
    "# 解析檔案內容\n",
    "with open(\"./data/64_72hr_CH.xml\", \"r\", encoding='utf-8') as fd:\n",
    "    doc = dict(xmltodict.parse(fd.read()))\n",
    "print(doc)"
   ]
  },
  {
   "cell_type": "markdown",
   "metadata": {},
   "source": [
    "### 根據範例檔案的結果：\n",
    "\n",
    "1. 請問高雄市有多少地區有溫度資料？\n",
    "2. 請取出每一個地區所記錄的第一個時間點跟溫度\n",
    "3. 請取出第一個地區所記錄的每一個時間點跟溫度"
   ]
  },
  {
   "cell_type": "code",
   "execution_count": 2,
   "metadata": {},
   "outputs": [
    {
     "name": "stdout",
     "output_type": "stream",
     "text": [
      "38\n"
     ]
    }
   ],
   "source": [
    "# 1. 請問高雄市有多少地區有溫度資料？\n",
    "\n",
    "'''\n",
    "Your Code\n",
    "'''\n",
    "areas = doc[\"cwbopendata\"][\"dataset\"][\"locations\"][\"location\"]\n",
    "with_temp = 0\n",
    "for i in areas:\n",
    "    for j in i[\"weatherElement\"]:\n",
    "        if j[\"description\"] == \"溫度\":\n",
    "            with_temp += 1\n",
    "print(with_temp)"
   ]
  },
  {
   "cell_type": "code",
   "execution_count": 3,
   "metadata": {},
   "outputs": [
    {
     "name": "stdout",
     "output_type": "stream",
     "text": [
      "鹽埕區 2019-06-28T12:00:00+08:00 33\n",
      "鼓山區 2019-06-28T12:00:00+08:00 33\n",
      "左營區 2019-06-28T12:00:00+08:00 33\n",
      "楠梓區 2019-06-28T12:00:00+08:00 34\n",
      "三民區 2019-06-28T12:00:00+08:00 32\n",
      "新興區 2019-06-28T12:00:00+08:00 33\n",
      "前金區 2019-06-28T12:00:00+08:00 33\n",
      "苓雅區 2019-06-28T12:00:00+08:00 33\n",
      "前鎮區 2019-06-28T12:00:00+08:00 33\n",
      "旗津區 2019-06-28T12:00:00+08:00 32\n",
      "小港區 2019-06-28T12:00:00+08:00 33\n",
      "鳳山區 2019-06-28T12:00:00+08:00 34\n",
      "林園區 2019-06-28T12:00:00+08:00 33\n",
      "大寮區 2019-06-28T12:00:00+08:00 34\n",
      "大樹區 2019-06-28T12:00:00+08:00 34\n",
      "大社區 2019-06-28T12:00:00+08:00 34\n",
      "仁武區 2019-06-28T12:00:00+08:00 33\n",
      "鳥松區 2019-06-28T12:00:00+08:00 34\n",
      "岡山區 2019-06-28T12:00:00+08:00 34\n",
      "橋頭區 2019-06-28T12:00:00+08:00 35\n",
      "燕巢區 2019-06-28T12:00:00+08:00 34\n",
      "田寮區 2019-06-28T12:00:00+08:00 34\n",
      "阿蓮區 2019-06-28T12:00:00+08:00 34\n",
      "路竹區 2019-06-28T12:00:00+08:00 33\n",
      "湖內區 2019-06-28T12:00:00+08:00 33\n",
      "茄萣區 2019-06-28T12:00:00+08:00 33\n",
      "永安區 2019-06-28T12:00:00+08:00 32\n",
      "彌陀區 2019-06-28T12:00:00+08:00 32\n",
      "梓官區 2019-06-28T12:00:00+08:00 32\n",
      "旗山區 2019-06-28T12:00:00+08:00 34\n",
      "美濃區 2019-06-28T12:00:00+08:00 34\n",
      "六龜區 2019-06-28T12:00:00+08:00 34\n",
      "甲仙區 2019-06-28T12:00:00+08:00 33\n",
      "杉林區 2019-06-28T12:00:00+08:00 36\n",
      "內門區 2019-06-28T12:00:00+08:00 34\n",
      "茂林區 2019-06-28T12:00:00+08:00 34\n",
      "桃源區 2019-06-28T12:00:00+08:00 31\n",
      "那瑪夏區 2019-06-28T12:00:00+08:00 29\n"
     ]
    }
   ],
   "source": [
    "# 2. 請取出每一個地區所記錄的第一個時間點跟溫度\n",
    "\n",
    "'''\n",
    "Your Code\n",
    "'''\n",
    "for i in areas:\n",
    "    for j in i[\"weatherElement\"]:\n",
    "        if j[\"description\"] == \"溫度\":\n",
    "            print(\"%s %s %s\"%(i[\"locationName\"], j[\"time\"][0][\"dataTime\"], j[\"time\"][0][\"elementValue\"][\"value\"]))"
   ]
  },
  {
   "cell_type": "code",
   "execution_count": 4,
   "metadata": {},
   "outputs": [
    {
     "name": "stdout",
     "output_type": "stream",
     "text": [
      "2019-06-28T12:00:00+08:00 33\n",
      "2019-06-28T15:00:00+08:00 33\n",
      "2019-06-28T18:00:00+08:00 32\n",
      "2019-06-28T21:00:00+08:00 30\n",
      "2019-06-29T00:00:00+08:00 30\n",
      "2019-06-29T03:00:00+08:00 29\n",
      "2019-06-29T06:00:00+08:00 28\n",
      "2019-06-29T09:00:00+08:00 31\n",
      "2019-06-29T12:00:00+08:00 32\n",
      "2019-06-29T15:00:00+08:00 32\n",
      "2019-06-29T18:00:00+08:00 31\n",
      "2019-06-29T21:00:00+08:00 30\n",
      "2019-06-30T00:00:00+08:00 29\n",
      "2019-06-30T03:00:00+08:00 28\n",
      "2019-06-30T06:00:00+08:00 28\n",
      "2019-06-30T09:00:00+08:00 31\n",
      "2019-06-30T12:00:00+08:00 32\n",
      "2019-06-30T15:00:00+08:00 32\n",
      "2019-06-30T18:00:00+08:00 31\n",
      "2019-06-30T21:00:00+08:00 30\n",
      "2019-07-01T00:00:00+08:00 29\n",
      "2019-07-01T03:00:00+08:00 29\n",
      "2019-07-01T06:00:00+08:00 28\n",
      "2019-07-01T09:00:00+08:00 31\n"
     ]
    }
   ],
   "source": [
    "# 3. 請取出第一個地區所記錄的每一個時間點跟溫度\n",
    "\n",
    "'''\n",
    "Your Code\n",
    "'''\n",
    "for i in areas:\n",
    "    for j in i[\"weatherElement\"]:\n",
    "        if j[\"description\"] == \"溫度\":\n",
    "            for k in j[\"time\"]:\n",
    "                print(k[\"dataTime\"], k[\"elementValue\"][\"value\"])\n",
    "    break"
   ]
  }
 ],
 "metadata": {
  "kernelspec": {
   "display_name": "Python 3",
   "language": "python",
   "name": "python3"
  },
  "language_info": {
   "codemirror_mode": {
    "name": "ipython",
    "version": 3
   },
   "file_extension": ".py",
   "mimetype": "text/x-python",
   "name": "python",
   "nbconvert_exporter": "python",
   "pygments_lexer": "ipython3",
   "version": "3.7.3"
  }
 },
 "nbformat": 4,
 "nbformat_minor": 2
}
